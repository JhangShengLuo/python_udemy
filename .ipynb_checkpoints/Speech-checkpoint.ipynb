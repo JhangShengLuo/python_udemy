{
 "cells": [
  {
   "cell_type": "code",
   "execution_count": 29,
   "metadata": {
    "collapsed": false
   },
   "outputs": [],
   "source": [
    "\n",
    "import speech_recognition\n",
    "r= speech_recognition.Recognizer()\n",
    "\n",
    "with speech_recognition.Microphone() as source:\n",
    "    audio = r.listen(source)"
   ]
  },
  {
   "cell_type": "code",
   "execution_count": 30,
   "metadata": {
    "collapsed": false
   },
   "outputs": [],
   "source": [
    "myword=r.recognize_google(audio,language='zh-TW')\n",
    "google_repeater(myword)"
   ]
  },
  {
   "cell_type": "code",
   "execution_count": 5,
   "metadata": {
    "collapsed": false
   },
   "outputs": [],
   "source": [
    "from gtts import gTTS\n"
   ]
  },
  {
   "cell_type": "code",
   "execution_count": 7,
   "metadata": {
    "collapsed": true
   },
   "outputs": [],
   "source": [
    "from pygame import mixer\n",
    "mixer.init()\n"
   ]
  },
  {
   "cell_type": "code",
   "execution_count": 14,
   "metadata": {
    "collapsed": false
   },
   "outputs": [],
   "source": [
    "import tempfile as tp\n",
    "def google_repeater(say_again):\n",
    "    with tp.NamedTemporaryFile(delete = True) as tfp: \n",
    "        tts = gTTS(text=say_again, lang='zh')\n",
    "        tts.save(tfp.name+\".mp3\")\n",
    "        mixer.music.load(tfp.name+\".mp3\")\n",
    "        mixer.music.play()"
   ]
  },
  {
   "cell_type": "code",
   "execution_count": 7,
   "metadata": {
    "collapsed": false
   },
   "outputs": [],
   "source": [
    "#以下打包\n",
    "# -*- coding: utf-8 -*-\n",
    "from gtts import gTTS\n",
    "from pygame import mixer\n",
    "mixer.init()\n",
    "import speech_recognition\n",
    "import tempfile as tp\n",
    "r= speech_recognition.Recognizer()\n",
    "def google_repeater(say_again):\n",
    "    with tp.NamedTemporaryFile(delete = True) as tfp: \n",
    "        tts = gTTS(text=say_again, lang='zh-tw')\n",
    "        tts.save(tfp.name+\".mp3\")\n",
    "        mixer.music.load(tfp.name+\".mp3\")\n",
    "        mixer.music.play()\n",
    "# google_repeater(\"成功\")\n",
    "try :\n",
    "    with speech_recognition.Microphone() as source:\n",
    "        audio = r.listen(source)\n",
    "    myword=r.recognize_google(audio,language='zh-TW')\n",
    "    google_repeater(myword)\n",
    "    print \"try\"\n",
    "except:\n",
    "    google_repeater(u\"錄音失敗\")\n",
    "    print \"except\"\n",
    "     \n"
   ]
  },
  {
   "cell_type": "code",
   "execution_count": null,
   "metadata": {
    "collapsed": true
   },
   "outputs": [],
   "source": []
  },
  {
   "cell_type": "code",
   "execution_count": null,
   "metadata": {
    "collapsed": false
   },
   "outputs": [],
   "source": [
    "#!/usr/bin/env python3\n",
    "# Requires PyAudio and PySpeech.\n",
    " \n",
    "import speech_recognition as sr\n",
    "from time import ctime\n",
    "import time\n",
    "import os\n",
    "from gtts import gTTS\n",
    " \n",
    "def speak(audioString):\n",
    "    print(audioString)\n",
    "    tts = gTTS(text=audioString, lang='en')\n",
    "    tts.save(\"audio.mp3\")\n",
    "    os.system(\"mpg321 audio.mp3\")\n",
    "\n",
    "def recordAudio():\n",
    "    # Record Audio\n",
    "    r = sr.Recognizer()\n",
    "    with sr.Microphone() as source:\n",
    "        print(\"Say something!\")\n",
    "        audio = r.listen(source)\n",
    " \n",
    "    # Speech recognition using Google Speech Recognition\n",
    "    data = \"\"\n",
    "    try:\n",
    "        # Uses the default API key\n",
    "        # To use another API key: `r.recognize_google(audio, key=\"GOOGLE_SPEECH_RECOGNITION_API_KEY\")`\n",
    "        data = r.recognize_google(audio)\n",
    "        print(\"You said: \" + data)\n",
    "    except sr.UnknownValueError:\n",
    "        print(\"Google Speech Recognition could not understand audio\")\n",
    "    except sr.RequestError as e:\n",
    "        print(\"Could not request results from Google Speech Recognition service; {0}\".format(e))\n",
    " \n",
    "    return data\n",
    " \n",
    "def jarvis(data):\n",
    "    if \"how are you\" in data:\n",
    "        speak(\"I am fine\")\n",
    " \n",
    "    if \"what time is it\" in data:\n",
    "        speak(ctime())\n",
    " \n",
    "    if \"where is\" in data:\n",
    "        data = data.split(\" \")\n",
    "        location = data[2]\n",
    "        speak(\"Hold on Frank, I will show you where \" + location + \" is.\")\n",
    "        os.system(\"chromium-browser https://www.google.nl/maps/place/\" + location + \"/&amp;\")\n",
    "\n",
    "# initialization\n",
    "time.sleep(2)\n",
    "speak(\"Hi Frank, what can I do for you?\")\n",
    "while 1:\n",
    "    data = recordAudio()\n",
    "    jarvis(data)\n"
   ]
  },
  {
   "cell_type": "code",
   "execution_count": null,
   "metadata": {
    "collapsed": true
   },
   "outputs": [],
   "source": []
  },
  {
   "cell_type": "code",
   "execution_count": null,
   "metadata": {
    "collapsed": true
   },
   "outputs": [],
   "source": []
  }
 ],
 "metadata": {
  "anaconda-cloud": {},
  "kernelspec": {
   "display_name": "Python [Root]",
   "language": "python",
   "name": "Python [Root]"
  },
  "language_info": {
   "codemirror_mode": {
    "name": "ipython",
    "version": 2
   },
   "file_extension": ".py",
   "mimetype": "text/x-python",
   "name": "python",
   "nbconvert_exporter": "python",
   "pygments_lexer": "ipython2",
   "version": "2.7.12"
  }
 },
 "nbformat": 4,
 "nbformat_minor": 0
}
