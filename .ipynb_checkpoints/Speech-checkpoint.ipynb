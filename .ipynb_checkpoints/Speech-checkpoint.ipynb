{
 "cells": [
  {
   "cell_type": "code",
   "execution_count": 29,
   "metadata": {
    "collapsed": false
   },
   "outputs": [],
   "source": [
    "\n",
    "import speech_recognition\n",
    "r= speech_recognition.Recognizer()\n",
    "\n",
    "with speech_recognition.Microphone() as source:\n",
    "    audio = r.listen(source)"
   ]
  },
  {
   "cell_type": "code",
   "execution_count": 30,
   "metadata": {
    "collapsed": false
   },
   "outputs": [],
   "source": [
    "myword=r.recognize_google(audio,language='zh-TW')\n",
    "google_repeater(myword)"
   ]
  },
  {
   "cell_type": "code",
   "execution_count": 5,
   "metadata": {
    "collapsed": false
   },
   "outputs": [],
   "source": [
    "from gtts import gTTS\n"
   ]
  },
  {
   "cell_type": "code",
   "execution_count": 7,
   "metadata": {
    "collapsed": true
   },
   "outputs": [],
   "source": [
    "from pygame import mixer\n",
    "mixer.init()\n"
   ]
  },
  {
   "cell_type": "code",
   "execution_count": 14,
   "metadata": {
    "collapsed": false
   },
   "outputs": [],
   "source": [
    "import tempfile as tp\n",
    "def google_repeater(say_again):\n",
    "    with tp.NamedTemporaryFile(delete = True) as tfp: \n",
    "        tts = gTTS(text=say_again, lang='zh')\n",
    "        tts.save(tfp.name+\".mp3\")\n",
    "        mixer.music.load(tfp.name+\".mp3\")\n",
    "        mixer.music.play()"
   ]
  },
  {
   "cell_type": "code",
   "execution_count": 3,
   "metadata": {
    "collapsed": false
   },
   "outputs": [],
   "source": [
    "#以下打包\n",
    "\n",
    "from gtts import gTTS\n",
    "from pygame import mixer\n",
    "import speech_recognition\n",
    "r= speech_recognition.Recognizer()\n",
    "import tempfile as tp\n",
    "with speech_recognition.Microphone() as source:\n",
    "    audio = r.listen(source)\n",
    "mixer.init()\n",
    "\n",
    "def google_repeater(say_again):\n",
    "    with tp.NamedTemporaryFile(delete = True) as tfp: \n",
    "        tts = gTTS(text=say_again, lang='zh')\n",
    "        tts.save(tfp.name+\".mp3\")\n",
    "        mixer.music.load(tfp.name+\".mp3\")\n",
    "        mixer.music.play()\n",
    "\n",
    "myword=r.recognize_google(audio,language='zh-TW')\n",
    "google_repeater(myword)       \n"
   ]
  },
  {
   "cell_type": "code",
   "execution_count": null,
   "metadata": {
    "collapsed": true
   },
   "outputs": [],
   "source": []
  }
 ],
 "metadata": {
  "anaconda-cloud": {},
  "kernelspec": {
   "display_name": "Python [Root]",
   "language": "python",
   "name": "Python [Root]"
  },
  "language_info": {
   "codemirror_mode": {
    "name": "ipython",
    "version": 2
   },
   "file_extension": ".py",
   "mimetype": "text/x-python",
   "name": "python",
   "nbconvert_exporter": "python",
   "pygments_lexer": "ipython2",
   "version": "2.7.12"
  }
 },
 "nbformat": 4,
 "nbformat_minor": 0
}
