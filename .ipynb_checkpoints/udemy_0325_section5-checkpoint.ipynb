{
 "cells": [
  {
   "cell_type": "code",
   "execution_count": 4,
   "metadata": {
    "collapsed": false
   },
   "outputs": [
    {
     "name": "stdout",
     "output_type": "stream",
     "text": [
      "Your age:29\n",
      "your Dadddy's age are 57.0\n"
     ]
    }
   ],
   "source": [
    "# input try\n",
    "age = input(\"Your age:\")\n",
    "your_Dad_age = float(age)+28\n",
    "print \"your Dadddy's age are\",your_Dad_age"
   ]
  },
  {
   "cell_type": "code",
   "execution_count": 29,
   "metadata": {
    "collapsed": false
   },
   "outputs": [
    {
     "name": "stdout",
     "output_type": "stream",
     "text": [
      "50\n",
      "-4\n",
      "That's lower than we know\n",
      "212\n"
     ]
    }
   ],
   "source": [
    "# converts Celsius degrees to Fahrenheit.\n",
    "\n",
    "def Fahrenheit_to_Celsius():\n",
    "    Fahrenheit = input(\"What is your Fahrenheit?: \")\n",
    "    cel = ((Fahrenheit-32)*5)/9\n",
    "    print cel\n",
    "\n",
    "# Celsius_to_Fahrenheit()\n",
    "\n",
    "# add conditional block\n",
    "\n",
    "\n",
    "def Celsius_to_Fahrenheit(Celsius):\n",
    "#     Celsius = float(input(\"What is your Celsius?: \"))\n",
    "    if Celsius>=-273.15:\n",
    "        Fahrenheit = (Celsius*9/5)+32\n",
    "        print Fahrenheit\n",
    "    else:\n",
    "        print \"That's lower than we know\"\n",
    "        \n",
    "temperatures=[10,-20,-289,100]\n",
    "for i in temperatures:\n",
    "    Celsius_to_Fahrenheit(i)\n",
    "\n",
    "\n"
   ]
  },
  {
   "cell_type": "code",
   "execution_count": 28,
   "metadata": {
    "collapsed": false
   },
   "outputs": [
    {
     "data": {
      "text/plain": [
       "180"
      ]
     },
     "execution_count": 28,
     "metadata": {},
     "output_type": "execute_result"
    }
   ],
   "source": [
    "100*9/5"
   ]
  },
  {
   "cell_type": "code",
   "execution_count": null,
   "metadata": {
    "collapsed": true
   },
   "outputs": [],
   "source": []
  },
  {
   "cell_type": "code",
   "execution_count": 20,
   "metadata": {
    "collapsed": false
   },
   "outputs": [
    {
     "name": "stdout",
     "output_type": "stream",
     "text": [
      "10\n"
     ]
    }
   ],
   "source": [
    "# print out 10 from \"under_bed\"\n",
    "\n",
    "money={\"saving_account\":200, \"checking_account\":100, \"under_bed\":[500,10,100]}\n",
    "\n",
    "\n",
    "print money['under_bed'][1]"
   ]
  },
  {
   "cell_type": "code",
   "execution_count": null,
   "metadata": {
    "collapsed": true
   },
   "outputs": [],
   "source": []
  }
 ],
 "metadata": {
  "kernelspec": {
   "display_name": "Python [Root]",
   "language": "python",
   "name": "Python [Root]"
  },
  "language_info": {
   "codemirror_mode": {
    "name": "ipython",
    "version": 2
   },
   "file_extension": ".py",
   "mimetype": "text/x-python",
   "name": "python",
   "nbconvert_exporter": "python",
   "pygments_lexer": "ipython2",
   "version": "2.7.12"
  }
 },
 "nbformat": 4,
 "nbformat_minor": 0
}
