{
 "cells": [
  {
   "cell_type": "code",
   "execution_count": 1,
   "metadata": {
    "collapsed": true
   },
   "outputs": [],
   "source": [
    "from Tkinter import *"
   ]
  },
  {
   "cell_type": "code",
   "execution_count": 31,
   "metadata": {},
   "outputs": [],
   "source": [
    "window = Tk()\n",
    "\n",
    "\n",
    "def kg_to_gpo():\n",
    "    grams = int(e1_value.get())*1000\n",
    "    pounds = int(e1_value.get())*2.20462\n",
    "    ounces = int(e1_value.get())*35.274\n",
    "    t1.insert(END,grams)\n",
    "    t2.insert(END,pounds)\n",
    "    t3.insert(END,ounces)\n",
    "\n",
    "\n",
    "b1= Button(window,text=\"Convert\",command=kg_to_gpo)\n",
    "b1.grid(row=0,column=2)\n",
    "\n",
    "\n",
    "l1=Label(window,text=\"Kg\")\n",
    "l1.grid(row=0,column=0)\n",
    "\n",
    "\n",
    "e1_value=StringVar()\n",
    "e1=Entry(window,textvariable=e1_value)\n",
    "e1.grid(row=0,column=1)\n",
    "\n",
    "\n",
    "\n",
    "t1=Text(window,height=1,width=30)\n",
    "t1.grid(row=2,column=0)\n",
    "t2=Text(window,height=1,width=30)\n",
    "t2.grid(row=2,column=1)\n",
    "t3=Text(window,height=1,width=30)\n",
    "t3.grid(row=2,column=2)\n",
    "\n",
    "\n",
    "window.mainloop()"
   ]
  },
  {
   "cell_type": "code",
   "execution_count": 9,
   "metadata": {
    "collapsed": true
   },
   "outputs": [],
   "source": [
    "\"ㄨㄛˇㄕˋㄌㄨㄛˊㄓㄤ ㄕㄥˋ\""
   ]
  },
  {
   "cell_type": "code",
   "execution_count": null,
   "metadata": {
    "collapsed": true
   },
   "outputs": [],
   "source": []
  },
  {
   "cell_type": "code",
   "execution_count": null,
   "metadata": {
    "collapsed": true
   },
   "outputs": [],
   "source": []
  },
  {
   "cell_type": "code",
   "execution_count": null,
   "metadata": {
    "collapsed": true
   },
   "outputs": [],
   "source": []
  }
 ],
 "metadata": {
  "anaconda-cloud": {},
  "kernelspec": {
   "display_name": "Python [Root]",
   "language": "python",
   "name": "Python [Root]"
  },
  "language_info": {
   "codemirror_mode": {
    "name": "ipython",
    "version": 2
   },
   "file_extension": ".py",
   "mimetype": "text/x-python",
   "name": "python",
   "nbconvert_exporter": "python",
   "pygments_lexer": "ipython2",
   "version": "2.7.12"
  }
 },
 "nbformat": 4,
 "nbformat_minor": 1
}
