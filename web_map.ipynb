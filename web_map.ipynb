{
 "cells": [
  {
   "cell_type": "code",
   "execution_count": 3,
   "metadata": {
    "collapsed": true
   },
   "outputs": [],
   "source": [
    "import folium as fm"
   ]
  },
  {
   "cell_type": "code",
   "execution_count": 56,
   "metadata": {},
   "outputs": [],
   "source": [
    "map_pal = fm.Map(location= [25.060, 121.522],zoom_start=18)\n",
    "fm.Marker(location=[25.060, 121.522], popup='work_place',icon = fm.Icon(color ='green')).add_to(map_pal)\n",
    "map_pal.save(\"work.html\")"
   ]
  },
  {
   "cell_type": "code",
   "execution_count": null,
   "metadata": {
    "collapsed": true
   },
   "outputs": [],
   "source": []
  },
  {
   "cell_type": "code",
   "execution_count": null,
   "metadata": {
    "collapsed": true
   },
   "outputs": [],
   "source": []
  },
  {
   "cell_type": "code",
   "execution_count": 52,
   "metadata": {},
   "outputs": [
    {
     "name": "stdout",
     "output_type": "stream",
     "text": [
      "Help on class Marker in module folium.map:\n",
      "\n",
      "class Marker(branca.element.MacroElement)\n",
      " |  Create a simple stock Leaflet marker on the map, with optional\n",
      " |  popup text or Vincent visualization.\n",
      " |  \n",
      " |  Parameters\n",
      " |  ----------\n",
      " |  location: tuple or list, default None\n",
      " |      Latitude and Longitude of Marker (Northing, Easting)\n",
      " |  popup: string or folium.Popup, default None\n",
      " |      Input text or visualization for object.\n",
      " |  icon: Icon plugin\n",
      " |      the Icon plugin to use to render the marker.\n",
      " |  \n",
      " |  Returns\n",
      " |  -------\n",
      " |  Marker names and HTML in obj.template_vars\n",
      " |  \n",
      " |  Examples\n",
      " |  --------\n",
      " |  >>> Marker(location=[45.5, -122.3], popup='Portland, OR')\n",
      " |  >>> Marker(location=[45.5, -122.3], popup=folium.Popup('Portland, OR'))\n",
      " |  \n",
      " |  Method resolution order:\n",
      " |      Marker\n",
      " |      branca.element.MacroElement\n",
      " |      branca.element.Element\n",
      " |      __builtin__.object\n",
      " |  \n",
      " |  Methods defined here:\n",
      " |  \n",
      " |  __init__(self, location, popup=None, icon=None)\n",
      " |  \n",
      " |  ----------------------------------------------------------------------\n",
      " |  Methods inherited from branca.element.MacroElement:\n",
      " |  \n",
      " |  render(self, **kwargs)\n",
      " |      Renders the HTML representation of the element.\n",
      " |  \n",
      " |  ----------------------------------------------------------------------\n",
      " |  Methods inherited from branca.element.Element:\n",
      " |  \n",
      " |  add_child(self, child, name=None, index=None)\n",
      " |      Add a child.\n",
      " |  \n",
      " |  add_children(self, child, name=None, index=None)\n",
      " |      Add a child.\n",
      " |  \n",
      " |  add_to(self, parent, name=None, index=None)\n",
      " |      Add element to a parent.\n",
      " |  \n",
      " |  get_bounds(self)\n",
      " |      Computes the bounds of the object and all it's children\n",
      " |      in the form [[lat_min, lon_min], [lat_max, lon_max]].\n",
      " |  \n",
      " |  get_name(self)\n",
      " |      Returns a string representation of the object.\n",
      " |      This string has to be unique and to be a python and\n",
      " |      javascript-compatible\n",
      " |      variable name.\n",
      " |  \n",
      " |  get_root(self)\n",
      " |      Returns the root of the elements tree.\n",
      " |  \n",
      " |  save(self, outfile, close_file=True, **kwargs)\n",
      " |      Saves an Element into a file.\n",
      " |      \n",
      " |      Parameters\n",
      " |      ----------\n",
      " |      outfile : str or file object\n",
      " |          The file (or filename) where you want to output the html.\n",
      " |      close_file : bool, default True\n",
      " |          Whether the file has to be closed after write.\n",
      " |  \n",
      " |  to_dict(self, depth=-1, ordered=True, **kwargs)\n",
      " |      Returns a dict representation of the object.\n",
      " |  \n",
      " |  to_json(self, depth=-1, **kwargs)\n",
      " |      Returns a JSON representation of the object.\n",
      " |  \n",
      " |  ----------------------------------------------------------------------\n",
      " |  Data descriptors inherited from branca.element.Element:\n",
      " |  \n",
      " |  __dict__\n",
      " |      dictionary for instance variables (if defined)\n",
      " |  \n",
      " |  __weakref__\n",
      " |      list of weak references to the object (if defined)\n",
      "\n"
     ]
    }
   ],
   "source": [
    "help(fm.Marker)"
   ]
  },
  {
   "cell_type": "code",
   "execution_count": null,
   "metadata": {
    "collapsed": true
   },
   "outputs": [],
   "source": []
  }
 ],
 "metadata": {
  "kernelspec": {
   "display_name": "Python [Root]",
   "language": "python",
   "name": "Python [Root]"
  },
  "language_info": {
   "codemirror_mode": {
    "name": "ipython",
    "version": 2
   },
   "file_extension": ".py",
   "mimetype": "text/x-python",
   "name": "python",
   "nbconvert_exporter": "python",
   "pygments_lexer": "ipython2",
   "version": "2.7.12"
  }
 },
 "nbformat": 4,
 "nbformat_minor": 1
}
