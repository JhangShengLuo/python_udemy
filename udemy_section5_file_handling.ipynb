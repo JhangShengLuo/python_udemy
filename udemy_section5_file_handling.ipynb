{
 "cells": [
  {
   "cell_type": "code",
   "execution_count": 22,
   "metadata": {
    "collapsed": false
   },
   "outputs": [
    {
     "name": "stdout",
     "output_type": "stream",
     "text": [
      "<type 'file'> Line 1\r\n",
      "Line 2\r\n",
      "Line 3\r\n",
      "Line 4\r\n",
      "Line 5\r\n",
      "Line 6\r\n",
      "<type 'str'>\n"
     ]
    }
   ],
   "source": [
    "\"\"\"\n",
    "r,r+,w,w+,a,a+\n",
    "+ = plus writting or reading\n",
    "\n",
    "\"\"\"\n",
    "filename = open('example.txt','r')\n",
    "content = filename.read()\n",
    "print type(filename),content,type(content)"
   ]
  },
  {
   "cell_type": "code",
   "execution_count": 26,
   "metadata": {
    "collapsed": false
   },
   "outputs": [
    {
     "name": "stdout",
     "output_type": "stream",
     "text": [
      "Line 1\r\n",
      "Line 2\r\n",
      "Line 3\r\n",
      "Line 4\r\n",
      "Line 5\r\n",
      "Line 6\r\n",
      "<type 'str'> <type 'str'> <type 'list'>\n"
     ]
    }
   ],
   "source": [
    "with open(\"example.txt\",'r') as f:\n",
    "    print  f.read(),type(f.read()),type(f.readline()),type(f.readlines())"
   ]
  },
  {
   "cell_type": "code",
   "execution_count": 15,
   "metadata": {
    "collapsed": false
   },
   "outputs": [],
   "source": [
    "# coding excercise 5\n",
    "\n",
    "# converts Celsius degrees to Fahrenheit.\n",
    "\n",
    "def Fahrenheit_to_Celsius():\n",
    "    Fahrenheit = input(\"What is your Fahrenheit?: \")\n",
    "    cel = ((Fahrenheit-32)*5)/9\n",
    "    print cel\n",
    "\n",
    "# Celsius_to_Fahrenheit()\n",
    "\n",
    "# add conditional block\n",
    "\n",
    "\n",
    "def Celsius_to_Fahrenheit(Celsius):\n",
    "#     Celsius = float(input(\"What is your Celsius?: \"))\n",
    "    if Celsius>=-273.15:\n",
    "        Fahrenheit = (Celsius*9/5)+32\n",
    "        with open(\"excercise5.txt\",'a+') as wf:\n",
    "            wf.write(str(Fahrenheit)+\"\\n\")\n",
    "    else:\n",
    "        pass\n",
    "#         print \"That's lower than we know\"\n",
    "        \n",
    "temperatures=[10,-20,-289,100]\n",
    "for i in temperatures:\n",
    "    Celsius_to_Fahrenheit(i)\n",
    "\n",
    "\n"
   ]
  },
  {
   "cell_type": "code",
   "execution_count": null,
   "metadata": {
    "collapsed": true
   },
   "outputs": [],
   "source": []
  },
  {
   "cell_type": "code",
   "execution_count": null,
   "metadata": {
    "collapsed": true
   },
   "outputs": [],
   "source": []
  },
  {
   "cell_type": "code",
   "execution_count": null,
   "metadata": {
    "collapsed": true
   },
   "outputs": [],
   "source": []
  }
 ],
 "metadata": {
  "kernelspec": {
   "display_name": "Python 2",
   "language": "python",
   "name": "python2"
  },
  "language_info": {
   "codemirror_mode": {
    "name": "ipython",
    "version": 2
   },
   "file_extension": ".py",
   "mimetype": "text/x-python",
   "name": "python",
   "nbconvert_exporter": "python",
   "pygments_lexer": "ipython2",
   "version": "2.7.9"
  }
 },
 "nbformat": 4,
 "nbformat_minor": 0
}
