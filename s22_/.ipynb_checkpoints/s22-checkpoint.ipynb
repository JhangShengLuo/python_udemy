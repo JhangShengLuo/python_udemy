{
 "cells": [
  {
   "cell_type": "code",
   "execution_count": 2,
   "metadata": {},
   "outputs": [
    {
     "name": "stdout",
     "output_type": "stream",
     "text": [
      "\u001b[33mThe directory '/Users/Jackie/Library/Caches/pip/http' or its parent directory is not owned by the current user and the cache has been disabled. Please check the permissions and owner of that directory. If executing pip with sudo, you may want sudo's -H flag.\u001b[0m\n",
      "\u001b[33mThe directory '/Users/Jackie/Library/Caches/pip' or its parent directory is not owned by the current user and caching wheels has been disabled. check the permissions and owner of that directory. If executing pip with sudo, you may want sudo's -H flag.\u001b[0m\n",
      "Requirement already satisfied: pandas_datareader in /Users/Jackie/anaconda/lib/python2.7/site-packages\n",
      "Requirement already satisfied: pandas in /Users/Jackie/anaconda/lib/python2.7/site-packages (from pandas_datareader)\n",
      "Requirement already satisfied: requests>=2.3.0 in /Users/Jackie/anaconda/lib/python2.7/site-packages (from pandas_datareader)\n",
      "Requirement already satisfied: requests-ftp in /Users/Jackie/anaconda/lib/python2.7/site-packages (from pandas_datareader)\n",
      "Requirement already satisfied: requests-file in /Users/Jackie/anaconda/lib/python2.7/site-packages (from pandas_datareader)\n",
      "Requirement already satisfied: python-dateutil in /Users/Jackie/anaconda/lib/python2.7/site-packages (from pandas->pandas_datareader)\n",
      "Requirement already satisfied: pytz>=2011k in /Users/Jackie/anaconda/lib/python2.7/site-packages (from pandas->pandas_datareader)\n",
      "Requirement already satisfied: numpy>=1.7.0 in /Users/Jackie/anaconda/lib/python2.7/site-packages (from pandas->pandas_datareader)\n",
      "Requirement already satisfied: six in /Users/Jackie/anaconda/lib/python2.7/site-packages (from requests-file->pandas_datareader)\n"
     ]
    }
   ],
   "source": [
    "!pip install pandas_datareader"
   ]
  },
  {
   "cell_type": "code",
   "execution_count": 11,
   "metadata": {
    "collapsed": true
   },
   "outputs": [],
   "source": [
    "from pandas_datareader import data\n",
    "import datetime"
   ]
  },
  {
   "cell_type": "code",
   "execution_count": 16,
   "metadata": {},
   "outputs": [],
   "source": [
    "start_time = datetime.datetime(2015,3,1)\n",
    "end_time = datetime.datetime(2015,3,10)\n",
    "sgmodf=data.DataReader(name=\"GOOG\",data_source=\"yahoo\",start=start_time,end=end_time)"
   ]
  },
  {
   "cell_type": "code",
   "execution_count": 17,
   "metadata": {},
   "outputs": [
    {
     "data": {
      "text/html": [
       "<div>\n",
       "<table border=\"1\" class=\"dataframe\">\n",
       "  <thead>\n",
       "    <tr style=\"text-align: right;\">\n",
       "      <th></th>\n",
       "      <th>Open</th>\n",
       "      <th>High</th>\n",
       "      <th>Low</th>\n",
       "      <th>Close</th>\n",
       "      <th>Volume</th>\n",
       "      <th>Adj Close</th>\n",
       "    </tr>\n",
       "    <tr>\n",
       "      <th>Date</th>\n",
       "      <th></th>\n",
       "      <th></th>\n",
       "      <th></th>\n",
       "      <th></th>\n",
       "      <th></th>\n",
       "      <th></th>\n",
       "    </tr>\n",
       "  </thead>\n",
       "  <tbody>\n",
       "    <tr>\n",
       "      <th>2015-03-02</th>\n",
       "      <td>560.532559</td>\n",
       "      <td>572.152562</td>\n",
       "      <td>558.752531</td>\n",
       "      <td>571.342601</td>\n",
       "      <td>2129600</td>\n",
       "      <td>571.342601</td>\n",
       "    </tr>\n",
       "    <tr>\n",
       "      <th>2015-03-03</th>\n",
       "      <td>570.452587</td>\n",
       "      <td>575.392588</td>\n",
       "      <td>566.522559</td>\n",
       "      <td>573.642610</td>\n",
       "      <td>1704700</td>\n",
       "      <td>573.642610</td>\n",
       "    </tr>\n",
       "    <tr>\n",
       "      <th>2015-03-04</th>\n",
       "      <td>571.872619</td>\n",
       "      <td>577.112637</td>\n",
       "      <td>568.012546</td>\n",
       "      <td>573.372583</td>\n",
       "      <td>1876800</td>\n",
       "      <td>573.372583</td>\n",
       "    </tr>\n",
       "    <tr>\n",
       "      <th>2015-03-05</th>\n",
       "      <td>575.022616</td>\n",
       "      <td>577.912621</td>\n",
       "      <td>573.412609</td>\n",
       "      <td>575.332609</td>\n",
       "      <td>1389600</td>\n",
       "      <td>575.332609</td>\n",
       "    </tr>\n",
       "    <tr>\n",
       "      <th>2015-03-06</th>\n",
       "      <td>574.882583</td>\n",
       "      <td>576.682625</td>\n",
       "      <td>566.762536</td>\n",
       "      <td>567.687558</td>\n",
       "      <td>1659100</td>\n",
       "      <td>567.687558</td>\n",
       "    </tr>\n",
       "    <tr>\n",
       "      <th>2015-03-09</th>\n",
       "      <td>566.862541</td>\n",
       "      <td>570.272589</td>\n",
       "      <td>563.537566</td>\n",
       "      <td>568.852557</td>\n",
       "      <td>1062100</td>\n",
       "      <td>568.852557</td>\n",
       "    </tr>\n",
       "    <tr>\n",
       "      <th>2015-03-10</th>\n",
       "      <td>564.252539</td>\n",
       "      <td>564.852573</td>\n",
       "      <td>554.732534</td>\n",
       "      <td>555.012538</td>\n",
       "      <td>1792300</td>\n",
       "      <td>555.012538</td>\n",
       "    </tr>\n",
       "  </tbody>\n",
       "</table>\n",
       "</div>"
      ],
      "text/plain": [
       "                  Open        High         Low       Close   Volume  \\\n",
       "Date                                                                  \n",
       "2015-03-02  560.532559  572.152562  558.752531  571.342601  2129600   \n",
       "2015-03-03  570.452587  575.392588  566.522559  573.642610  1704700   \n",
       "2015-03-04  571.872619  577.112637  568.012546  573.372583  1876800   \n",
       "2015-03-05  575.022616  577.912621  573.412609  575.332609  1389600   \n",
       "2015-03-06  574.882583  576.682625  566.762536  567.687558  1659100   \n",
       "2015-03-09  566.862541  570.272589  563.537566  568.852557  1062100   \n",
       "2015-03-10  564.252539  564.852573  554.732534  555.012538  1792300   \n",
       "\n",
       "             Adj Close  \n",
       "Date                    \n",
       "2015-03-02  571.342601  \n",
       "2015-03-03  573.642610  \n",
       "2015-03-04  573.372583  \n",
       "2015-03-05  575.332609  \n",
       "2015-03-06  567.687558  \n",
       "2015-03-09  568.852557  \n",
       "2015-03-10  555.012538  "
      ]
     },
     "execution_count": 17,
     "metadata": {},
     "output_type": "execute_result"
    }
   ],
   "source": [
    "sgmodf"
   ]
  },
  {
   "cell_type": "code",
   "execution_count": null,
   "metadata": {
    "collapsed": true
   },
   "outputs": [],
   "source": []
  }
 ],
 "metadata": {
  "kernelspec": {
   "display_name": "Python [Root]",
   "language": "python",
   "name": "Python [Root]"
  },
  "language_info": {
   "codemirror_mode": {
    "name": "ipython",
    "version": 2
   },
   "file_extension": ".py",
   "mimetype": "text/x-python",
   "name": "python",
   "nbconvert_exporter": "python",
   "pygments_lexer": "ipython2",
   "version": "2.7.12"
  }
 },
 "nbformat": 4,
 "nbformat_minor": 1
}
