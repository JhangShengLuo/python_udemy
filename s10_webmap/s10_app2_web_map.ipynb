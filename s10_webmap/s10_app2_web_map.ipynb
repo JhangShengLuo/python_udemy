{
 "cells": [
  {
   "cell_type": "code",
   "execution_count": 3,
   "metadata": {
    "collapsed": true
   },
   "outputs": [],
   "source": [
    "import folium as fm\n",
    "import pandas as pd\n",
    "\n",
    "vol_loca = pd.read_csv(\"Volcanoes-USA.txt\")\n",
    "\n",
    "def color_type(vol_type):\n",
    "    type_aray = vol_loca.TYPE.unique()\n",
    "    icon_color_list=['red', 'blue', 'green', 'purple', 'orange', 'darkred','lightred', 'beige', \\\n",
    "     'darkblue', 'darkgreen', 'cadetblue','darkpurple', 'white', 'pink']\n",
    "    dic_vol = dict(zip(type_aray,icon_color_list))\n",
    "    return dic_vol[vol_type]\n",
    "\n",
    "\n",
    "\n",
    "mean_lat=vol_loca.mean().LAT\n",
    "mean_lon=vol_loca.mean().LON\n",
    "map_pal = fm.Map(location= [mean_lat,mean_lon],zoom_start=15)\n",
    "\n",
    "fg = fm.FeatureGroup(name= \"val loc\")\n",
    "\n",
    "for lon,lat,name,vol_type in vol_loca[[\"LAT\",'LON','NAME','TYPE']].values:\n",
    "    fm.Marker(location=[lon, lat], popup=name,icon = fm.Icon(color =color_type(vol_type))).add_to(fg)\n",
    "\n",
    "# map_pal.add_child(fg)\n",
    "# map_pal.add_child(fm.GeoJson(data=open(\"world_pop.json\"),name= \"World pop\",\n",
    "#                             style_function = lambda x:{\"fillColor\":\"green\" if x['properties']['POP2005']<=50000000 else \"orange\" if 50000000<x['properties']['POP2005']<=100000000 else \"red\"}))\n",
    "\n",
    "map_pal.add_child(fg)\n",
    "map_pal.add_child(fm.GeoJson(data=open(\"world_pop.json\"),name= \"World pop\"))\n",
    "\n",
    "\n",
    "map_pal.add_child(fm.LayerControl())\n",
    "\n",
    "\n",
    "map_pal.save(\"usa_vol.html\")"
   ]
  },
  {
   "cell_type": "code",
   "execution_count": null,
   "metadata": {
    "collapsed": true
   },
   "outputs": [],
   "source": []
  },
  {
   "cell_type": "code",
   "execution_count": null,
   "metadata": {
    "collapsed": true
   },
   "outputs": [],
   "source": []
  },
  {
   "cell_type": "code",
   "execution_count": 1,
   "metadata": {},
   "outputs": [
    {
     "ename": "NameError",
     "evalue": "name 'fm' is not defined",
     "output_type": "error",
     "traceback": [
      "\u001b[0;31m---------------------------------------------------------------------------\u001b[0m",
      "\u001b[0;31mNameError\u001b[0m                                 Traceback (most recent call last)",
      "\u001b[0;32m<ipython-input-1-356951d0a4f4>\u001b[0m in \u001b[0;36m<module>\u001b[0;34m()\u001b[0m\n\u001b[0;32m----> 1\u001b[0;31m \u001b[0mdir\u001b[0m\u001b[0;34m(\u001b[0m\u001b[0mfm\u001b[0m\u001b[0;34m.\u001b[0m\u001b[0mfolium\u001b[0m\u001b[0;34m.\u001b[0m\u001b[0mMap\u001b[0m\u001b[0;34m)\u001b[0m\u001b[0;34m\u001b[0m\u001b[0m\n\u001b[0m",
      "\u001b[0;31mNameError\u001b[0m: name 'fm' is not defined"
     ]
    }
   ],
   "source": [
    "dir(fm.folium.Map)"
   ]
  },
  {
   "cell_type": "code",
   "execution_count": 5,
   "metadata": {
    "collapsed": true
   },
   "outputs": [],
   "source": [
    "a = lambda x :x+3\n",
    "a(5)"
   ]
  },
  {
   "cell_type": "code",
   "execution_count": 6,
   "metadata": {},
   "outputs": [
    {
     "data": {
      "text/plain": [
       "8"
      ]
     },
     "execution_count": 6,
     "metadata": {},
     "output_type": "execute_result"
    }
   ],
   "source": []
  },
  {
   "cell_type": "code",
   "execution_count": null,
   "metadata": {
    "collapsed": true
   },
   "outputs": [],
   "source": []
  }
 ],
 "metadata": {
  "anaconda-cloud": {},
  "kernelspec": {
   "display_name": "Python [Root]",
   "language": "python",
   "name": "Python [Root]"
  },
  "language_info": {
   "codemirror_mode": {
    "name": "ipython",
    "version": 2
   },
   "file_extension": ".py",
   "mimetype": "text/x-python",
   "name": "python",
   "nbconvert_exporter": "python",
   "pygments_lexer": "ipython2",
   "version": "2.7.12"
  }
 },
 "nbformat": 4,
 "nbformat_minor": 1
}
