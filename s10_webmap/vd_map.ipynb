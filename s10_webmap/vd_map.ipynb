{
 "cells": [
  {
   "cell_type": "code",
   "execution_count": 2,
   "metadata": {
    "collapsed": true
   },
   "outputs": [],
   "source": [
    "import folium as fm\n",
    "import pandas as pd\n",
    "\n",
    "\n",
    "\n",
    "vd_df = pd.read_excel(\"vd經緯度.xls\",encoding = \"utf-8\")\n",
    "vd_df.head(5)\n",
    "\n",
    "\n",
    "\n",
    "mean_lat=vd_df.mean().WGSY\n",
    "mean_lon=vd_df.mean().WGSX\n",
    "map_pal = fm.Map(location= [mean_lat,mean_lon],zoom_start=15)\n",
    "\n",
    "fg = fm.FeatureGroup(name= \"vd_loc\")\n",
    "\n",
    "for lat,lon,name, in vd_df[[\"WGSY\",'WGSX',u'路口編號']].values:\n",
    "    fm.Marker(location=[lat, lon], popup=name,icon = fm.Icon(color =\"blue\")).add_to(fg)\n",
    "\n",
    "map_pal.add_child(fg)\n",
    "\n",
    "map_pal.add_child(fm.GeoJson(data=open(\"tw_map.json\"),name= \"tw_map\"))\n",
    "\n",
    "map_pal.add_child(fm.LayerControl())\n",
    "\n",
    "\n",
    "\n",
    "map_pal.save(\"vd_loc.html\")"
   ]
  },
  {
   "cell_type": "code",
   "execution_count": null,
   "metadata": {
    "collapsed": true
   },
   "outputs": [],
   "source": []
  },
  {
   "cell_type": "code",
   "execution_count": null,
   "metadata": {
    "collapsed": true
   },
   "outputs": [],
   "source": []
  },
  {
   "cell_type": "code",
   "execution_count": null,
   "metadata": {
    "collapsed": true
   },
   "outputs": [],
   "source": []
  },
  {
   "cell_type": "code",
   "execution_count": null,
   "metadata": {
    "collapsed": true
   },
   "outputs": [],
   "source": []
  }
 ],
 "metadata": {
  "kernelspec": {
   "display_name": "Python [Root]",
   "language": "python",
   "name": "Python [Root]"
  },
  "language_info": {
   "codemirror_mode": {
    "name": "ipython",
    "version": 2
   },
   "file_extension": ".py",
   "mimetype": "text/x-python",
   "name": "python",
   "nbconvert_exporter": "python",
   "pygments_lexer": "ipython2",
   "version": "2.7.12"
  }
 },
 "nbformat": 4,
 "nbformat_minor": 1
}
