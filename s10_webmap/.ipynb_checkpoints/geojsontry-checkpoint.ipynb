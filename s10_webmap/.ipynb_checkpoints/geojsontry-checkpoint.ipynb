{
 "cells": [
  {
   "cell_type": "code",
   "execution_count": 148,
   "metadata": {},
   "outputs": [],
   "source": [
    "import pandas as pd\n",
    "import json\n",
    "import geojson\n",
    "# import io\n",
    "# import sys\n",
    "# default_stdout = sys.stdout\n",
    "# default_stderr = sys.stderr\n",
    "# reload(sys)\n",
    "# sys.stdout = default_stdout\n",
    "# sys.stderr = default_stderr\n",
    "# sys.setdefaultencoding('utf-8')\n",
    "\n",
    "\n",
    "def df_to_geojson(df, properties, lat=\"lat\", lon=\"long\"):\n",
    "    geojson = {\"type\":\"FeatureCollection\", \"features\":[]}\n",
    "    i=0\n",
    "    for _, row in df.iterrows():\n",
    "        i += 1\n",
    "        feature = {\"type\":\"Feature\",\n",
    "                   \"id\":i,\n",
    "                   \"properties\":{},\n",
    "                   \"geometry\":{\"type\":\"Point\",\"coordinates\":[]}}\n",
    "        feature[\"geometry\"][\"coordinates\"] = [row[lon],row[lat]]\n",
    "        for prop in properties:\n",
    "            feature[\"properties\"][prop] = row[prop]\n",
    "        geojson[\"features\"].append(feature)\n",
    "    return geojson\n",
    "\n",
    "\n",
    "vdcood=pd.read_excel(\"vd經緯度.xls\")\n",
    "vdcood.columns=[\"name\",\"desc\",\"port\",\"long\",\"lat\"]\n",
    "vdcood.desc=\"I am desc!!!\"\n",
    "cols = [\"name\", \"desc\"]\n",
    "vdjson=df_to_geojson(vdcood, cols)\n",
    "\n",
    "with open(\"vdloac.geojson\",\"w+\") as gdf:\n",
    "    gdf.write(str(vdjson))"
   ]
  },
  {
   "cell_type": "code",
   "execution_count": 89,
   "metadata": {},
   "outputs": [],
   "source": [
    "\n",
    "\n",
    "ukrats=pd.read_json(\"test.geojson\")\n",
    "\n",
    "with open(\"test.geojson\",\"r\") as jsor:\n",
    "    fghfhgfhg=jsor.read()\n",
    "\n",
    "\n",
    "ukrrrr=json.loads(fghfhgfhg)"
   ]
  },
  {
   "cell_type": "code",
   "execution_count": null,
   "metadata": {
    "collapsed": true
   },
   "outputs": [],
   "source": []
  },
  {
   "cell_type": "code",
   "execution_count": null,
   "metadata": {
    "collapsed": true
   },
   "outputs": [],
   "source": []
  },
  {
   "cell_type": "code",
   "execution_count": null,
   "metadata": {
    "collapsed": true
   },
   "outputs": [],
   "source": []
  }
 ],
 "metadata": {
  "kernelspec": {
   "display_name": "Python [Root]",
   "language": "python",
   "name": "Python [Root]"
  },
  "language_info": {
   "codemirror_mode": {
    "name": "ipython",
    "version": 2
   },
   "file_extension": ".py",
   "mimetype": "text/x-python",
   "name": "python",
   "nbconvert_exporter": "python",
   "pygments_lexer": "ipython2",
   "version": "2.7.12"
  }
 },
 "nbformat": 4,
 "nbformat_minor": 1
}
