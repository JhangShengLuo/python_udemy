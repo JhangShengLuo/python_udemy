{
 "cells": [
  {
   "cell_type": "code",
   "execution_count": 189,
   "metadata": {},
   "outputs": [],
   "source": [
    "import pandas as pd\n",
    "import json\n",
    "import geojson\n",
    "import chardet\n",
    "# import io\n",
    "# import sys\n",
    "# default_stdout = sys.stdout\n",
    "# default_stderr = sys.stderr\n",
    "# reload(sys)\n",
    "# sys.stdout = default_stdout\n",
    "# sys.stderr = default_stderr\n",
    "# sys.setdefaultencoding('utf-8')\n",
    "\n",
    "\n",
    "def df_to_geojson(df, properties, lat=\"lat\", lon=\"long\"):\n",
    "    geojson = {\"type\":\"FeatureCollection\", \"features\":[]}\n",
    "    i=0\n",
    "    for _, row in df.iterrows():\n",
    "        i += 1\n",
    "        feature = {\"type\":\"Feature\",\n",
    "                   \"id\":i,\n",
    "                   \"properties\":{},\n",
    "                   \"geometry\":{\"type\":\"Point\",\"coordinates\":[]}}\n",
    "        feature[\"geometry\"][\"coordinates\"] = [row[lon],row[lat]]\n",
    "        for prop in properties:\n",
    "            feature[\"properties\"][prop] = row[prop]\n",
    "\n",
    "        geojson[\"features\"].append(feature)\n",
    "    return geojson\n",
    "\n",
    "\n",
    "vdcood=pd.read_excel(\"vd經緯度.xls\")\n",
    "vdcood.columns=[\"name\",\"desc\",\"port\",\"long\",\"lat\"]\n",
    "vdcood.name=vdcood.name.apply(lambda x: x.encode('utf8'));\n",
    "# vdcood.desc=vdcood.desc.apply(lambda x: x.encode('utf8'));\n",
    "cols = [\"name\", \"desc\"]\n",
    "vdjson=df_to_geojson(vdcood, cols)\n",
    "\n",
    "with open(\"vdloac.geojson\",\"w+\") as gdf:\n",
    "    gdf.write(str(vdjson))"
   ]
  },
  {
   "cell_type": "code",
   "execution_count": 188,
   "metadata": {},
   "outputs": [
    {
     "ename": "ValueError",
     "evalue": "Expected a bytes object, not a unicode object",
     "output_type": "error",
     "traceback": [
      "\u001b[0;31m---------------------------------------------------------------------------\u001b[0m",
      "\u001b[0;31mValueError\u001b[0m                                Traceback (most recent call last)",
      "\u001b[0;32m<ipython-input-188-f60b5802347e>\u001b[0m in \u001b[0;36m<module>\u001b[0;34m()\u001b[0m\n\u001b[0;32m----> 1\u001b[0;31m \u001b[0mchardet\u001b[0m\u001b[0;34m.\u001b[0m\u001b[0mdetect\u001b[0m\u001b[0;34m(\u001b[0m\u001b[0mvdcood\u001b[0m\u001b[0;34m.\u001b[0m\u001b[0mdesc\u001b[0m\u001b[0;34m[\u001b[0m\u001b[0;36m0\u001b[0m\u001b[0;34m]\u001b[0m\u001b[0;34m)\u001b[0m\u001b[0;34m\u001b[0m\u001b[0m\n\u001b[0m\u001b[1;32m      2\u001b[0m \u001b[0;31m# vdcood.desc[0]\u001b[0m\u001b[0;34m\u001b[0m\u001b[0;34m\u001b[0m\u001b[0m\n",
      "\u001b[0;32m/Users/Jackie/anaconda/lib/python2.7/site-packages/chardet/__init__.pyc\u001b[0m in \u001b[0;36mdetect\u001b[0;34m(aBuf)\u001b[0m\n\u001b[1;32m     23\u001b[0m     if ((version_info < (3, 0) and isinstance(aBuf, unicode)) or\n\u001b[1;32m     24\u001b[0m             (version_info >= (3, 0) and not isinstance(aBuf, bytes))):\n\u001b[0;32m---> 25\u001b[0;31m         \u001b[0;32mraise\u001b[0m \u001b[0mValueError\u001b[0m\u001b[0;34m(\u001b[0m\u001b[0;34m'Expected a bytes object, not a unicode object'\u001b[0m\u001b[0;34m)\u001b[0m\u001b[0;34m\u001b[0m\u001b[0m\n\u001b[0m\u001b[1;32m     26\u001b[0m \u001b[0;34m\u001b[0m\u001b[0m\n\u001b[1;32m     27\u001b[0m     \u001b[0;32mfrom\u001b[0m \u001b[0;34m.\u001b[0m \u001b[0;32mimport\u001b[0m \u001b[0muniversaldetector\u001b[0m\u001b[0;34m\u001b[0m\u001b[0m\n",
      "\u001b[0;31mValueError\u001b[0m: Expected a bytes object, not a unicode object"
     ]
    }
   ],
   "source": [
    "chardet.detect(vdcood.desc[0])\n",
    "# vdcood.desc[0]"
   ]
  },
  {
   "cell_type": "code",
   "execution_count": null,
   "metadata": {
    "collapsed": true
   },
   "outputs": [],
   "source": []
  },
  {
   "cell_type": "code",
   "execution_count": 89,
   "metadata": {},
   "outputs": [],
   "source": [
    "\n",
    "\n",
    "ukrats=pd.read_json(\"test.geojson\")\n",
    "\n",
    "with open(\"test.geojson\",\"r\") as jsor:\n",
    "    fghfhgfhg=jsor.read()\n",
    "\n",
    "\n",
    "ukrrrr=json.loads(fghfhgfhg)"
   ]
  },
  {
   "cell_type": "code",
   "execution_count": 149,
   "metadata": {
    "collapsed": true
   },
   "outputs": [],
   "source": [
    "foo = u'Δ, Й, ק, ‎ م, ๗, あ, 叶, 葉, and 말.'\n",
    "f = open('test', 'w')\n",
    "f.write(foo.encode('utf8'))\n",
    "f.close()"
   ]
  },
  {
   "cell_type": "code",
   "execution_count": null,
   "metadata": {
    "collapsed": true
   },
   "outputs": [],
   "source": []
  },
  {
   "cell_type": "code",
   "execution_count": null,
   "metadata": {
    "collapsed": true
   },
   "outputs": [],
   "source": []
  }
 ],
 "metadata": {
  "kernelspec": {
   "display_name": "Python [Root]",
   "language": "python",
   "name": "Python [Root]"
  },
  "language_info": {
   "codemirror_mode": {
    "name": "ipython",
    "version": 2
   },
   "file_extension": ".py",
   "mimetype": "text/x-python",
   "name": "python",
   "nbconvert_exporter": "python",
   "pygments_lexer": "ipython2",
   "version": "2.7.12"
  }
 },
 "nbformat": 4,
 "nbformat_minor": 1
}
