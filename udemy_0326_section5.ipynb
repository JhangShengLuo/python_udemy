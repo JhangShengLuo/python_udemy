{
 "cells": [
  {
   "cell_type": "code",
   "execution_count": 22,
   "metadata": {
    "collapsed": false
   },
   "outputs": [
    {
     "name": "stdout",
     "output_type": "stream",
     "text": [
      "<type 'file'> Line 1\r\n",
      "Line 2\r\n",
      "Line 3\r\n",
      "Line 4\r\n",
      "Line 5\r\n",
      "Line 6\r\n",
      "<type 'str'>\n"
     ]
    }
   ],
   "source": [
    "filename = open('example.txt','r')\n",
    "content = filename.read()\n",
    "print type(filename),content,type(content)"
   ]
  },
  {
   "cell_type": "code",
   "execution_count": 26,
   "metadata": {
    "collapsed": false
   },
   "outputs": [
    {
     "name": "stdout",
     "output_type": "stream",
     "text": [
      "Line 1\r\n",
      "Line 2\r\n",
      "Line 3\r\n",
      "Line 4\r\n",
      "Line 5\r\n",
      "Line 6\r\n",
      "<type 'str'> <type 'str'> <type 'list'>\n"
     ]
    }
   ],
   "source": [
    "with open(\"example.txt\",'r') as f:\n",
    "    print  f.read(),type(f.read()),type(f.readline()),type(f.readlines())"
   ]
  },
  {
   "cell_type": "code",
   "execution_count": null,
   "metadata": {
    "collapsed": true
   },
   "outputs": [],
   "source": []
  }
 ],
 "metadata": {
  "kernelspec": {
   "display_name": "Python [Root]",
   "language": "python",
   "name": "Python [Root]"
  },
  "language_info": {
   "codemirror_mode": {
    "name": "ipython",
    "version": 2
   },
   "file_extension": ".py",
   "mimetype": "text/x-python",
   "name": "python",
   "nbconvert_exporter": "python",
   "pygments_lexer": "ipython2",
   "version": "2.7.12"
  }
 },
 "nbformat": 4,
 "nbformat_minor": 0
}
