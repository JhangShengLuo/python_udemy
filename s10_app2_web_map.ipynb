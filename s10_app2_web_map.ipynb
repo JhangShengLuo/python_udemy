{
 "cells": [
  {
   "cell_type": "code",
   "execution_count": 1,
   "metadata": {
    "collapsed": true
   },
   "outputs": [],
   "source": [
    "import folium as fm\n",
    "import pandas as pd"
   ]
  },
  {
   "cell_type": "code",
   "execution_count": 32,
   "metadata": {},
   "outputs": [],
   "source": [
    "vol_loca = pd.read_csv(\"Volcanoes-USA.txt\")\n",
    "\n",
    "def color_type(vol_type):\n",
    "    type_aray = vol_loca.TYPE.unique()\n",
    "    icon_color_list=['red', 'blue', 'green', 'purple', 'orange', 'darkred','lightred', 'beige', \\\n",
    "     'darkblue', 'darkgreen', 'cadetblue','darkpurple', 'white', 'pink']\n",
    "    dic_vol = dict(zip(type_aray,icon_color_list))\n",
    "    return dic_vol[vol_type]"
   ]
  },
  {
   "cell_type": "code",
   "execution_count": 37,
   "metadata": {},
   "outputs": [],
   "source": []
  },
  {
   "cell_type": "code",
   "execution_count": null,
   "metadata": {
    "collapsed": true
   },
   "outputs": [],
   "source": []
  },
  {
   "cell_type": "code",
   "execution_count": 39,
   "metadata": {
    "collapsed": true
   },
   "outputs": [],
   "source": [
    "mean_lat=vol_loca.mean().LAT\n",
    "mean_lon=vol_loca.mean().LON\n",
    "map_pal = fm.Map(location= [mean_lat,mean_lon],zoom_start=15)\n",
    "\n",
    "for lon,lat,name,vol_type in vol_loca[[\"LAT\",'LON','NAME','TYPE']].values:\n",
    "    map_pal.add_child\n",
    "    fm.Marker(location=[lon, lat], popup=name,icon = fm.Icon(color =color_type(vol_type))).add_to(map_pal)\n",
    "map_pal.save(\"usa_vol.html\")"
   ]
  },
  {
   "cell_type": "code",
   "execution_count": null,
   "metadata": {
    "collapsed": true
   },
   "outputs": [],
   "source": []
  },
  {
   "cell_type": "code",
   "execution_count": null,
   "metadata": {
    "collapsed": true
   },
   "outputs": [],
   "source": []
  },
  {
   "cell_type": "code",
   "execution_count": 47,
   "metadata": {},
   "outputs": [
    {
     "name": "stdout",
     "output_type": "stream",
     "text": [
      "Help on method add_child in module branca.element:\n",
      "\n",
      "add_child(self, child, name=None, index=None) method of folium.folium.Map instance\n",
      "    Add a child.\n",
      "\n"
     ]
    }
   ],
   "source": [
    "help(map_pal.add_child)"
   ]
  },
  {
   "cell_type": "code",
   "execution_count": null,
   "metadata": {
    "collapsed": true
   },
   "outputs": [],
   "source": []
  }
 ],
 "metadata": {
  "kernelspec": {
   "display_name": "Python [Root]",
   "language": "python",
   "name": "Python [Root]"
  },
  "language_info": {
   "codemirror_mode": {
    "name": "ipython",
    "version": 2
   },
   "file_extension": ".py",
   "mimetype": "text/x-python",
   "name": "python",
   "nbconvert_exporter": "python",
   "pygments_lexer": "ipython2",
   "version": "2.7.12"
  }
 },
 "nbformat": 4,
 "nbformat_minor": 1
}
