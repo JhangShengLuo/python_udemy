{
 "cells": [
  {
<<<<<<< HEAD
   "cell_type": "code",
   "execution_count": null,
   "metadata": {
    "collapsed": true
   },
   "outputs": [],
   "source": [
    "# pip3 install pygame failed so only specific version\n",
    "\n",
    "# !pip3 install pygame==1.9.2 "
   ]
  },
  {
   "cell_type": "code",
   "execution_count": 15,
   "metadata": {},
   "outputs": [
    {
     "name": "stdout",
     "output_type": "stream",
     "text": [
      "\u001b[33mThe directory '/Users/Jackie/Library/Caches/pip/http' or its parent directory is not owned by the current user and the cache has been disabled. Please check the permissions and owner of that directory. If executing pip with sudo, you may want sudo's -H flag.\u001b[0m\n",
      "\u001b[33mThe directory '/Users/Jackie/Library/Caches/pip' or its parent directory is not owned by the current user and caching wheels has been disabled. check the permissions and owner of that directory. If executing pip with sudo, you may want sudo's -H flag.\u001b[0m\n",
      "Collecting Tkinter\n",
      "\u001b[31m  Could not find a version that satisfies the requirement Tkinter (from versions: )\u001b[0m\n",
      "\u001b[31mNo matching distribution found for Tkinter\u001b[0m\n"
     ]
    }
   ],
   "source": [
    "!pip3 install Tkinter"
   ]
  },
  {
   "cell_type": "code",
   "execution_count": null,
   "metadata": {
    "collapsed": true
   },
   "outputs": [],
   "source": []
  },
  {
   "cell_type": "code",
   "execution_count": 8,
   "metadata": {},
   "outputs": [
    {
     "name": "stdout",
     "output_type": "stream",
     "text": [
      "你好嗎\n"
     ]
    }
   ],
   "source": [
    "\n",
    "import speech_recognition\n",
    "r= speech_recognition.Recognizer()\n",
    "\n",
    "with speech_recognition.Microphone() as source:\n",
    "    audio = r.listen(source)\n",
    "print(r.recognize_google(audio,language='zh-TW'))"
=======
   "cell_type": "markdown",
   "metadata": {},
   "source": [
    "## 想改成網頁版，然後會有錄音檔可以載。"
>>>>>>> a21c0978759115c5e053de4bd444a563323404fa
   ]
  },
  {
   "cell_type": "code",
   "execution_count": null,
<<<<<<< HEAD
   "metadata": {
    "collapsed": true
   },
   "outputs": [],
   "source": []
  },
  {
   "cell_type": "code",
   "execution_count": null,
   "metadata": {
    "collapsed": true
   },
   "outputs": [],
   "source": []
  },
  {
   "cell_type": "code",
   "execution_count": null,
   "metadata": {
    "collapsed": true
   },
   "outputs": [],
   "source": []
  },
  {
   "cell_type": "code",
   "execution_count": 30,
   "metadata": {
    "collapsed": true
   },
   "outputs": [],
   "source": [
    "myword=r.recognize_google(audio,language='zh-TW')\n",
    "google_repeater(myword)"
   ]
  },
  {
   "cell_type": "code",
   "execution_count": 11,
   "metadata": {
    "collapsed": true
   },
   "outputs": [],
   "source": [
    "from gtts import gTTS\n"
   ]
  },
  {
   "cell_type": "code",
   "execution_count": 7,
   "metadata": {
    "collapsed": true
   },
   "outputs": [],
   "source": [
    "from pygame import mixer\n",
    "mixer.init()\n"
   ]
  },
  {
   "cell_type": "code",
   "execution_count": 17,
=======
>>>>>>> a21c0978759115c5e053de4bd444a563323404fa
   "metadata": {
    "collapsed": true
   },
   "outputs": [],
   "source": []
  },
  {
   "cell_type": "code",
   "execution_count": null,
   "metadata": {
    "collapsed": true
   },
   "outputs": [],
   "source": []
  },
  {
   "cell_type": "code",
   "execution_count": null,
   "metadata": {
    "collapsed": true
   },
   "outputs": [],
   "source": []
  },
  {
   "cell_type": "code",
<<<<<<< HEAD
   "execution_count": 12,
=======
   "execution_count": 14,
>>>>>>> a21c0978759115c5e053de4bd444a563323404fa
   "metadata": {},
   "outputs": [
    {
     "name": "stdout",
     "output_type": "stream",
     "text": [
      "錄音囉\n",
<<<<<<< HEAD
      "except\n"
=======
      "try done\n"
>>>>>>> a21c0978759115c5e053de4bd444a563323404fa
     ]
    }
   ],
   "source": [
    "#以下打包 成功版\n",
    "# -*- coding: utf-8 -*-\n",
    "from gtts import gTTS\n",
    "from pygame import mixer\n",
    "mixer.init()\n",
    "import speech_recognition\n",
    "import tempfile as tp\n",
    "r= speech_recognition.Recognizer()\n",
    "def google_repeater(say_again):\n",
    "    with tp.NamedTemporaryFile(delete = True) as tfp: \n",
    "        tts = gTTS(text=say_again, lang='zh-tw')\n",
    "        tts.save(tfp.name+\".mp3\")\n",
    "        mixer.music.load(tfp.name+\".mp3\")\n",
    "        mixer.music.play()\n",
    "        while mixer.music.get_busy():\n",
    "            pass\n",
    "# google_repeater(\"成功\")\n",
    "try :\n",
    "    print(\"錄音囉\")\n",
    "    with speech_recognition.Microphone() as source:\n",
    "        audio = r.listen(source)\n",
    "    myword=r.recognize_google(audio,language='zh-TW')\n",
    "    google_repeater(myword)\n",
<<<<<<< HEAD
    "    print(\"try\")\n",
=======
    "    print(\"try done\")\n",
>>>>>>> a21c0978759115c5e053de4bd444a563323404fa
    "except:\n",
    "    google_repeater(u\"錄音失敗\")\n",
    "    print(\"except\")\n",
    "     \n"
   ]
  },
  {
   "cell_type": "code",
<<<<<<< HEAD
   "execution_count": null,
=======
   "execution_count": 13,
>>>>>>> a21c0978759115c5e053de4bd444a563323404fa
   "metadata": {},
   "outputs": [
    {
     "name": "stdout",
     "output_type": "stream",
     "text": [
      "錄音囉\n"
     ]
    }
   ],
   "source": [
    "#以下打包 加上 介面設定！\n",
    "# -*- coding: utf-8 -*-\n",
    "from gtts import gTTS\n",
    "from pygame import mixer\n",
    "mixer.init()\n",
    "import speech_recognition\n",
    "import tempfile as tp\n",
    "r= speech_recognition.Recognizer()\n",
    "def google_repeater(say_again):\n",
    "    with tp.NamedTemporaryFile(delete = True) as tfp: \n",
    "        tts = gTTS(text=say_again, lang='zh-tw')\n",
    "        tts.save(tfp.name+\".mp3\")\n",
    "        mixer.music.load(tfp.name+\".mp3\")\n",
    "        mixer.music.play()\n",
    "        while mixer.music.get_busy():\n",
    "            pass\n",
    "from tkinter import *\n",
    "window = Tk()\n",
    "\n",
    "\n",
    "def kg_to_gpo():\n",
    "    try :\n",
    "        print(\"錄音囉\")\n",
    "        with speech_recognition.Microphone() as source:\n",
    "            audio = r.listen(source)\n",
    "        myword=r.recognize_google(audio,language='zh-TW')\n",
    "        myword = myword.replace(u\"9\",u\"九\").replace(u\"4\",u\"四\")\\\n",
    "        .replace(u\"8\",u\"八\").replace(u\"7\",u\"七\")\n",
    "        google_repeater(myword)\n",
    "        # 可以把前一行字刪去\n",
    "        t1.delete(1.0, 2.0)\n",
    "        t1.insert(END,myword)\n",
    "    except:\n",
    "        google_repeater(u\"錄音失敗\")\n",
    "        # 可以把前一行字刪去\n",
    "        t1.delete(1.0, 2.0)\n",
    "        t1.insert(END,u\"錄音失敗\")\n",
    "\n",
    "\n",
    "b1= Button(window,text=\"錄音囉\",command=kg_to_gpo)\n",
    "b1.grid(row=0,column=2)\n",
    "\n",
    "\n",
    "\n",
    "l1=Label(window,text=\"我是學人精\")\n",
    "l1.grid(row=0,column=0)\n",
    "\n",
    "# e1_value=StringVar()\n",
    "# e1=Entry(window,textvariable=e1_value)\n",
    "# e1.grid(row=0,column=1)\n",
    "\n",
    "t1=Text(window,height=1,width=60)\n",
    "t1.grid(row=2,column=0)\n",
    "\n",
    "\n",
    "window.mainloop()"
   ]
  },
  {
   "cell_type": "code",
   "execution_count": null,
   "metadata": {
    "collapsed": true
   },
   "outputs": [],
   "source": []
  },
  {
   "cell_type": "code",
<<<<<<< HEAD
=======
   "execution_count": null,
   "metadata": {
    "collapsed": true
   },
   "outputs": [],
   "source": []
  },
  {
   "cell_type": "code",
>>>>>>> a21c0978759115c5e053de4bd444a563323404fa
   "execution_count": null,
   "metadata": {
    "collapsed": true
   },
   "outputs": [],
   "source": []
  },
  {
   "cell_type": "code",
   "execution_count": null,
   "metadata": {
    "collapsed": true
   },
   "outputs": [],
   "source": []
  },
  {
   "cell_type": "markdown",
   "metadata": {
    "collapsed": true
   },
   "source": [
    "### this is sample!"
   ]
  },
  {
   "cell_type": "code",
   "execution_count": null,
   "metadata": {
    "collapsed": true
   },
   "outputs": [],
   "source": [
    "\n",
    "\n",
    "#!/usr/bin/env python3\n",
    "# Requires PyAudio and PySpeech.\n",
    " \n",
    "import speech_recognition as sr\n",
    "from time import ctime\n",
    "import time\n",
    "import os\n",
    "from gtts import gTTS\n",
    " \n",
    "def speak(audioString):\n",
    "    print(audioString)\n",
    "    tts = gTTS(text=audioString, lang='en')\n",
    "    tts.save(\"audio.mp3\")\n",
    "    os.system(\"mpg321 audio.mp3\")\n",
    "\n",
    "def recordAudio():\n",
    "    # Record Audio\n",
    "    r = sr.Recognizer()\n",
    "    with sr.Microphone() as source:\n",
    "        print(\"Say something!\")\n",
    "        audio = r.listen(source)\n",
    " \n",
    "    # Speech recognition using Google Speech Recognition\n",
    "    data = \"\"\n",
    "    try:\n",
    "        # Uses the default API key\n",
    "        # To use another API key: `r.recognize_google(audio, key=\"GOOGLE_SPEECH_RECOGNITION_API_KEY\")`\n",
    "        data = r.recognize_google(audio)\n",
    "        print(\"You said: \" + data)\n",
    "    except sr.UnknownValueError:\n",
    "        print(\"Google Speech Recognition could not understand audio\")\n",
    "    except sr.RequestError as e:\n",
    "        print(\"Could not request results from Google Speech Recognition service; {0}\".format(e))\n",
    " \n",
    "    return data\n",
    " \n",
    "def jarvis(data):\n",
    "    if \"how are you\" in data:\n",
    "        speak(\"I am fine\")\n",
    " \n",
    "    if \"what time is it\" in data:\n",
    "        speak(ctime())\n",
    " \n",
    "    if \"where is\" in data:\n",
    "        data = data.split(\" \")\n",
    "        location = data[2]\n",
    "        speak(\"Hold on Frank, I will show you where \" + location + \" is.\")\n",
    "        os.system(\"chromium-browser https://www.google.nl/maps/place/\" + location + \"/&amp;\")\n",
    "\n",
    "# initialization\n",
    "time.sleep(2)\n",
    "speak(\"Hi Frank, what can I do for you?\")\n",
    "while 1:\n",
    "    data = recordAudio()\n",
    "    jarvis(data)\n"
   ]
  },
  {
   "cell_type": "code",
   "execution_count": null,
   "metadata": {
    "collapsed": true
   },
   "outputs": [],
   "source": []
  },
  {
   "cell_type": "code",
   "execution_count": null,
   "metadata": {
    "collapsed": true
   },
   "outputs": [],
   "source": []
  }
 ],
 "metadata": {
  "anaconda-cloud": {},
  "kernelspec": {
   "display_name": "Python 3",
   "language": "python",
   "name": "python3"
  },
  "language_info": {
   "codemirror_mode": {
    "name": "ipython",
    "version": 3
   },
   "file_extension": ".py",
   "mimetype": "text/x-python",
   "name": "python",
   "nbconvert_exporter": "python",
   "pygments_lexer": "ipython3",
<<<<<<< HEAD
   "version": "3.5.3"
=======
   "version": "3.6.1"
>>>>>>> a21c0978759115c5e053de4bd444a563323404fa
  }
 },
 "nbformat": 4,
 "nbformat_minor": 1
}
