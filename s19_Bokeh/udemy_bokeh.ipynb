{
 "cells": [
  {
   "cell_type": "code",
   "execution_count": 1,
   "metadata": {
    "collapsed": true
   },
   "outputs": [],
   "source": [
    "# first excercise\n",
    "import pandas as pd\n",
    "from bokeh.charts import Scatter,output_file,show\n",
    "\n",
    "df=pd.DataFrame({\"X\":[1,2,3,4,5],\"Y\":[5,6,7,8,9]})\n",
    "\n",
    "p=Scatter(df,x=\"X\",y=\"Y\",title=\"what?\",xlabel=\"this is x\",ylabel=\"this is y\")\n",
    "output_file(\"Scatter_charts.html\")\n",
    "show(p)"
   ]
  },
  {
   "cell_type": "code",
   "execution_count": 42,
   "metadata": {},
   "outputs": [],
   "source": [
    "# second\n",
    "from bokeh.plotting import figure,output_file,show\n",
    "p=figure(plot_width=600,plot_height=600,tools=\"\",logo=None)\n",
    "\n",
    "p.title.text=\"moutains\"\n",
    "p.title.text_color=\"Blue\"\n",
    "p.title.text_font=\"times\"\n",
    "p.title.text_font_style=\"italic\"\n",
    "p.title.text_font_size=\"20\"\n",
    "p.yaxis.minor_tick_line_color=None\n",
    "p.xaxis.axis_label=\"Times\"\n",
    "p.yaxis.axis_label=\"Values\"\n",
    "p.triangle([1,2,3,4,5],[5,6,7,8,9],size=[i*2 for i in [10,12,14,16,18]],color=\"red\",alpha=0.5)\n",
    "\n",
    "output_file(\"plotting_figure.html\")\n",
    "show(p)"
   ]
  },
  {
   "cell_type": "code",
   "execution_count": 31,
   "metadata": {
    "collapsed": true
   },
   "outputs": [],
   "source": [
    "sample= pd.read_excel(\"verlegenhuken.xlsx\",encoding=\"utf-8\")"
   ]
  },
  {
   "cell_type": "code",
   "execution_count": 38,
   "metadata": {},
   "outputs": [],
   "source": [
    "# excercise\n",
    "p=figure(plot_width=600,plot_height=600,tools='pan,resize')\n",
    "\n",
    "p.title.text=\"Temperature and pressure \"\n",
    "p.title.text_color=\"Gray\"\n",
    "p.title.text_font_size=\"20\"\n",
    "p.yaxis.minor_tick_line_color=None\n",
    "p.xaxis.minor_tick_line_color=None\n",
    "p.xaxis.axis_label=\"Temperature(°C)\"\n",
    "p.yaxis.axis_label=\"pressure(hPa)\"\n",
    "p.triangle(sample.Temperature/10,sample.Pressure/10,size=4,color=\"blue\",alpha=0.5)\n",
    "\n",
    "output_file(\"weather.html\")\n",
    "show(p)"
   ]
  },
  {
   "cell_type": "code",
   "execution_count": 43,
   "metadata": {},
   "outputs": [
    {
     "data": {
      "text/plain": [
       "<bokeh.models.renderers.GlyphRenderer at 0x112c57050>"
      ]
     },
     "execution_count": 43,
     "metadata": {},
     "output_type": "execute_result"
    }
   ],
   "source": [
    "# TS plot\n",
    "\n",
    "from bokeh.plotting import figure,output_file,show\n",
    "import pandas as pd\n",
    "\n",
    "csv_link=\"http://ichart.yahoo.com/table.csv?s=AAPL&a=0&b=1&c=2000&d=0&e=1&f=2010\"\n",
    "\n",
    "df=pd.read_csv(csv_link,parse_dates=\"Date\",encoding=\"utf-8\")\n",
    "\n",
    "\n",
    "p=figure(plot_width=600,plot_height=600)\n",
    "\n",
    "\n",
    "p.line(,line_width=4,color=\"blue\",alpha=0.5)\n"
   ]
  },
  {
   "cell_type": "code",
   "execution_count": null,
   "metadata": {
    "collapsed": true
   },
   "outputs": [],
   "source": []
  },
  {
   "cell_type": "code",
   "execution_count": null,
   "metadata": {
    "collapsed": true
   },
   "outputs": [],
   "source": []
  },
  {
   "cell_type": "code",
   "execution_count": null,
   "metadata": {
    "collapsed": true
   },
   "outputs": [],
   "source": []
  },
  {
   "cell_type": "code",
   "execution_count": null,
   "metadata": {
    "collapsed": true
   },
   "outputs": [],
   "source": []
  }
 ],
 "metadata": {
  "anaconda-cloud": {},
  "kernelspec": {
   "display_name": "Python [Root]",
   "language": "python",
   "name": "Python [Root]"
  },
  "language_info": {
   "codemirror_mode": {
    "name": "ipython",
    "version": 2
   },
   "file_extension": ".py",
   "mimetype": "text/x-python",
   "name": "python",
   "nbconvert_exporter": "python",
   "pygments_lexer": "ipython2",
   "version": "2.7.12"
  }
 },
 "nbformat": 4,
 "nbformat_minor": 1
}
